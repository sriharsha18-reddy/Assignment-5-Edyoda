{
 "cells": [
  {
   "cell_type": "code",
   "execution_count": 32,
   "metadata": {},
   "outputs": [
    {
     "name": "stdout",
     "output_type": "stream",
     "text": [
      "Your 1st number is: 1\n",
      "Your 2nd number is: 3\n",
      "Your 3rd number is: 5\n",
      "Your Square_Sum is:35\n",
      "\n"
     ]
    }
   ],
   "source": [
    "class point:\n",
    "\n",
    "    def __init__(self,x,y,z):\n",
    "        self.x = x\n",
    "        self.y = y\n",
    "        self.z = z\n",
    "        print(\"Your 1st number is:\",self.x)\n",
    "        print(\"Your 2nd number is:\",self.y)\n",
    "        print(\"Your 3rd number is:\",self.z)\n",
    "        \n",
    "    def sqSum(self):\n",
    "        self.sumsquare = self.x**2+self.y**2+self.z**2\n",
    "        print(\"Your Square_Sum is:\",end=\"\")\n",
    "        return self.sumsquare\n",
    "\n",
    "p = point(1,3,5)\n",
    "print(p.sqSum())\n",
    "print()       "
   ]
  }
 ],
 "metadata": {
  "kernelspec": {
   "display_name": "Python 3",
   "language": "python",
   "name": "python3"
  },
  "language_info": {
   "codemirror_mode": {
    "name": "ipython",
    "version": 3
   },
   "file_extension": ".py",
   "mimetype": "text/x-python",
   "name": "python",
   "nbconvert_exporter": "python",
   "pygments_lexer": "ipython3",
   "version": "3.11.1"
  },
  "orig_nbformat": 4,
  "vscode": {
   "interpreter": {
    "hash": "cfd6bd4f4113fdcafaf611b0ceaf74a3b5f8378550a60e11b112517102badd1d"
   }
  }
 },
 "nbformat": 4,
 "nbformat_minor": 2
}
