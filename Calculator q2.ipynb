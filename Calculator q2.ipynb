{
 "cells": [
  {
   "cell_type": "code",
   "execution_count": 17,
   "metadata": {},
   "outputs": [
    {
     "name": "stdout",
     "output_type": "stream",
     "text": [
      "Enter your 1st Number : 10\n",
      "Enter your 2nd Number : 94\n",
      "Addition of Two Numbers is:104\n",
      "Subtraction of Two Numbers is:-84\n",
      "Multiplication of Two Numbers is:940\n",
      "Division of Two Numbers is:9\n",
      "\n"
     ]
    }
   ],
   "source": [
    "class Calculator:\n",
    "\n",
    "    def __init__(self,x,y):\n",
    "        self.x = x\n",
    "        self.y = y\n",
    "        print(\"Enter your 1st Number :\",self.x)\n",
    "        print(\"Enter your 2nd Number :\",self.y)\n",
    "\n",
    "    def add(self):\n",
    "        self.addition = self.x+self.y\n",
    "        print(\"Addition of Two Numbers is:\",end=\"\")\n",
    "        return self.addition\n",
    "\n",
    "    def subtract(self):\n",
    "        self.subtraction = self.x-self.y\n",
    "        print(\"Subtraction of Two Numbers is:\",end=\"\")\n",
    "        return self.subtraction\n",
    "\n",
    "    def multiply(self):\n",
    "        self.multiplication = self.x*self.y\n",
    "        print(\"Multiplication of Two Numbers is:\",end=\"\")\n",
    "        return self.multiplication\n",
    "\n",
    "    def divide(self):\n",
    "        self.division = self.y//self.x\n",
    "        print(\"Division of Two Numbers is:\",end=\"\")\n",
    "        return self.division\n",
    "       \n",
    "c = Calculator(10, 94)\n",
    "print(c.add())\n",
    "print(c.subtract())\n",
    "print(c.multiply())\n",
    "print(c.divide())\n",
    "print()\n"
   ]
  }
 ],
 "metadata": {
  "kernelspec": {
   "display_name": "Python 3",
   "language": "python",
   "name": "python3"
  },
  "language_info": {
   "codemirror_mode": {
    "name": "ipython",
    "version": 3
   },
   "file_extension": ".py",
   "mimetype": "text/x-python",
   "name": "python",
   "nbconvert_exporter": "python",
   "pygments_lexer": "ipython3",
   "version": "3.11.1"
  },
  "orig_nbformat": 4,
  "vscode": {
   "interpreter": {
    "hash": "cfd6bd4f4113fdcafaf611b0ceaf74a3b5f8378550a60e11b112517102badd1d"
   }
  }
 },
 "nbformat": 4,
 "nbformat_minor": 2
}
