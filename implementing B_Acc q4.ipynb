{
 "cells": [
  {
   "cell_type": "code",
   "execution_count": 3,
   "metadata": {},
   "outputs": [
    {
     "name": "stdout",
     "output_type": "stream",
     "text": [
      "Name : Harsha\n",
      "Balance : 25000\n",
      "Interest is : 500\n"
     ]
    }
   ],
   "source": [
    "class Account:\n",
    "\n",
    "    def __init__(self, Title= None, Balance=0):\n",
    "        self.Title = Title\n",
    "        self.Balance = Balance  \n",
    "\n",
    "class SavingsBank(Account):\n",
    "     def __init__(self, Title=None, Balance=0, interest=0):\n",
    "        super().__init__(Title, Balance)\n",
    "        self.interest = interest\n",
    "        print(\"Name :\",Title)\n",
    "        print(\"Balance :\",Balance)\n",
    "        print(\"Interest is :\",self.interest)\n",
    "\n",
    "x = SavingsBank(\"Harsha\",25000,500)     "
   ]
  }
 ],
 "metadata": {
  "kernelspec": {
   "display_name": "Python 3",
   "language": "python",
   "name": "python3"
  },
  "language_info": {
   "codemirror_mode": {
    "name": "ipython",
    "version": 3
   },
   "file_extension": ".py",
   "mimetype": "text/x-python",
   "name": "python",
   "nbconvert_exporter": "python",
   "pygments_lexer": "ipython3",
   "version": "3.11.1"
  },
  "orig_nbformat": 4,
  "vscode": {
   "interpreter": {
    "hash": "cfd6bd4f4113fdcafaf611b0ceaf74a3b5f8378550a60e11b112517102badd1d"
   }
  }
 },
 "nbformat": 4,
 "nbformat_minor": 2
}
