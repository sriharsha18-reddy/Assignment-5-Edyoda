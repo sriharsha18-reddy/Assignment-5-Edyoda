{
 "cells": [
  {
   "cell_type": "code",
   "execution_count": 1,
   "metadata": {},
   "outputs": [
    {
     "name": "stdout",
     "output_type": "stream",
     "text": [
      "3500\n",
      "2000\n",
      "2000\n",
      "100.0\n"
     ]
    }
   ],
   "source": [
    "import sys\n",
    "class Account:\n",
    "    Bank = \"Indian Bank\"\n",
    "    def __init__(self, Title= None, Balance=0):\n",
    "        self.Title = Title\n",
    "        self.Balance = Balance  \n",
    "        #print(\"Welcome to Indian Bank\",Account.Bank) \n",
    "\n",
    "    def deposit(self, dep):\n",
    "        self.Balance = self.Balance + dep\n",
    "        #print(\"Amount is Deposited: \",self.Balance)\n",
    "        return self.Balance\n",
    "        \n",
    "    def withdraw(self, w_drawn):\n",
    "        if self.Balance < w_drawn:\n",
    "            self.Balance = self.Balance<w_drawn\n",
    "            #print(\"You have Insufficient Balance\")\n",
    "            sys.exit()\n",
    "        else:\n",
    "            self.Balance = self.Balance-w_drawn\n",
    "            #print(\"Balance after Withdraw: \",self.Balance)\n",
    "            return self.Balance\n",
    "    \n",
    "    def get_Balance(self):\n",
    "        return self.Balance\n",
    "\n",
    "class SavingsAccount(Account):\n",
    "     def __init__(self, Title=None, Balance=0, interestRate=0):\n",
    "        super().__init__(Title, Balance)\n",
    "        self.interestRate = interestRate\n",
    "\n",
    "     def interestAmount(self):\n",
    "        self.interestRate = self.Balance*self.interestRate/100\n",
    "        #print(\"Interest Rate :\",self.interestRate)\n",
    "        return self.interestRate\n",
    "\n",
    "s = SavingsAccount(\"Harsha\",2000,5)\n",
    "print(s.deposit(1500))\n",
    "s.withdraw(500)\n",
    "print(s.withdraw(1000))\n",
    "print(s.get_Balance())\n",
    "print(s.interestAmount())"
   ]
  }
 ],
 "metadata": {
  "kernelspec": {
   "display_name": "Python 3",
   "language": "python",
   "name": "python3"
  },
  "language_info": {
   "codemirror_mode": {
    "name": "ipython",
    "version": 3
   },
   "file_extension": ".py",
   "mimetype": "text/x-python",
   "name": "python",
   "nbconvert_exporter": "python",
   "pygments_lexer": "ipython3",
   "version": "3.11.1 (tags/v3.11.1:a7a450f, Dec  6 2022, 19:58:39) [MSC v.1934 64 bit (AMD64)]"
  },
  "orig_nbformat": 4,
  "vscode": {
   "interpreter": {
    "hash": "cfd6bd4f4113fdcafaf611b0ceaf74a3b5f8378550a60e11b112517102badd1d"
   }
  }
 },
 "nbformat": 4,
 "nbformat_minor": 2
}
