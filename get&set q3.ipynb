{
 "cells": [
  {
   "cell_type": "code",
   "execution_count": 7,
   "metadata": {},
   "outputs": [
    {
     "name": "stdout",
     "output_type": "stream",
     "text": [
      "Name :  Harsha\n",
      "Roll No :  DS291122A\n",
      "\n"
     ]
    }
   ],
   "source": [
    "class Student: \n",
    "    collage_Name = \"Edyoda Digital University\"\n",
    "\n",
    "    def init(self,name=None,roll_no=None):\n",
    "        selfName = name\n",
    "        self.Roll_No = roll_no\n",
    "        print(\"Welcome to\",Student.collage_Name,\"\\n\") \n",
    "\n",
    "    def set_name(self,x): \n",
    "       self.Name = x \n",
    "\n",
    "    def get_name(self): \n",
    "        print(\"Name : \",self.Name,end=\"\") \n",
    "        return \"\"\n",
    "\n",
    "    def get_rollno(self): \n",
    "        print(\"Roll No : \",self.Roll_No)\n",
    "        return \"\" \n",
    "\n",
    "    def set_rollno(self,x):\n",
    "        self.Roll_No = x \n",
    "\n",
    "x = Student()\n",
    "x.set_name(\"Harsha\")\n",
    "x.set_rollno(\"DS291122A\")\n",
    "print(x.get_name()) \n",
    "print(x.get_rollno())"
   ]
  }
 ],
 "metadata": {
  "kernelspec": {
   "display_name": "Python 3",
   "language": "python",
   "name": "python3"
  },
  "language_info": {
   "codemirror_mode": {
    "name": "ipython",
    "version": 3
   },
   "file_extension": ".py",
   "mimetype": "text/x-python",
   "name": "python",
   "nbconvert_exporter": "python",
   "pygments_lexer": "ipython3",
   "version": "3.11.1"
  },
  "orig_nbformat": 4,
  "vscode": {
   "interpreter": {
    "hash": "cfd6bd4f4113fdcafaf611b0ceaf74a3b5f8378550a60e11b112517102badd1d"
   }
  }
 },
 "nbformat": 4,
 "nbformat_minor": 2
}
