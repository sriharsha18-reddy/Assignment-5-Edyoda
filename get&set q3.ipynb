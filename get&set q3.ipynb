{
 "cells": [
  {
   "cell_type": "code",
   "execution_count": 43,
   "metadata": {},
   "outputs": [
    {
     "name": "stdout",
     "output_type": "stream",
     "text": [
      "Welcome to Edyoda Digital University \n",
      "\n",
      "Student Name is Harsha\n",
      "\n"
     ]
    }
   ],
   "source": [
    "class Student:\n",
    "    college_Name = \"Edyoda Digital University\"\n",
    " \n",
    "    def __init__(self,name=None,roll_no=None):\n",
    "        self.__Name = name\n",
    "        self.__Roll_No = roll_no\n",
    "        print(\"Welcome to\",Student.college_Name,\"\\n\")\n",
    "\n",
    "    def set_name(self,x):\n",
    "        #print(\"Student Name is\",self.name)\n",
    "        self.__Name = x\n",
    " \n",
    "    def get_name(self):\n",
    "        print(\"Student Name is\",self.__Name,end=\"\")\n",
    "        return \"\"\n",
    " \n",
    "    def set_rollno(self,x):\n",
    "        #print(\"Student Rollno is\",self.rollno)\n",
    "        self.__Roll_No = x\n",
    " \n",
    "\n",
    "    def get_rollno(self):\n",
    "        #print(\"Student Rollno is\",self.rollno)\n",
    "        return \"\"\n",
    "\n",
    "s = Student()\n",
    "s.set_name(\"Harsha\")\n",
    "s.set_rollno(\"DS291122A\")\n",
    "print(s.get_name())\n",
    "print(s.get_rollno())\n"
   ]
  }
 ],
 "metadata": {
  "kernelspec": {
   "display_name": "Python 3",
   "language": "python",
   "name": "python3"
  },
  "language_info": {
   "codemirror_mode": {
    "name": "ipython",
    "version": 3
   },
   "file_extension": ".py",
   "mimetype": "text/x-python",
   "name": "python",
   "nbconvert_exporter": "python",
   "pygments_lexer": "ipython3",
   "version": "3.11.1"
  },
  "orig_nbformat": 4,
  "vscode": {
   "interpreter": {
    "hash": "cfd6bd4f4113fdcafaf611b0ceaf74a3b5f8378550a60e11b112517102badd1d"
   }
  }
 },
 "nbformat": 4,
 "nbformat_minor": 2
}
